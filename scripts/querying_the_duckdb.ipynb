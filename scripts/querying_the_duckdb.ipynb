{
 "cells": [
  {
   "metadata": {},
   "cell_type": "markdown",
   "source": "# Querying the DuckDB",
   "id": "364d338eccaa6e5b"
  },
  {
   "metadata": {
    "ExecuteTime": {
     "end_time": "2024-11-07T17:20:22.755421Z",
     "start_time": "2024-11-07T17:20:22.750274Z"
    }
   },
   "cell_type": "code",
   "source": [
    "# Set up connection\n",
    "import os\n",
    "import duckdb\n",
    "\n",
    "current_dir = os.getcwd()\n",
    "db_path = os.path.join(current_dir, '..', 'weather.duckdb')  # DuckDB file path\n",
    "conn = duckdb.connect(db_path)\n",
    "\n",
    "def execute_query_and_print_result(query):\n",
    "    result = conn.execute(query).fetchdf()\n",
    "    print(result)\n"
   ],
   "id": "3a72c14ea27bf110",
   "outputs": [],
   "execution_count": 9
  },
  {
   "metadata": {
    "ExecuteTime": {
     "end_time": "2024-11-07T17:19:22.730807Z",
     "start_time": "2024-11-07T17:19:22.723433Z"
    }
   },
   "cell_type": "code",
   "source": [
    "query = \"SELECT * FROM weather LIMIT 5\"\n",
    "execute_query_and_print_result(query)"
   ],
   "id": "623d3c2131feb561",
   "outputs": [
    {
     "name": "stdout",
     "output_type": "stream",
     "text": [
      "  event_start  belief_horizon_in_sec  event_value       sensor unit\n",
      "0  2020-11-01                   -637        11.36  temperature   °C\n",
      "1  2020-11-01                  35362        11.06  temperature   °C\n",
      "2  2020-11-01                  38960        11.41  temperature   °C\n",
      "3  2020-11-01                  28162        11.25  temperature   °C\n",
      "4  2020-11-01                   2969        11.39  temperature   °C\n"
     ]
    }
   ],
   "execution_count": 4
  },
  {
   "metadata": {
    "ExecuteTime": {
     "end_time": "2024-11-07T17:20:56.643239Z",
     "start_time": "2024-11-07T17:20:56.625723Z"
    }
   },
   "cell_type": "code",
   "source": [
    "# Get distinct sensors\n",
    "query = \"SELECT distinct(sensor) FROM weather\"\n",
    "execute_query_and_print_result(query)"
   ],
   "id": "dbce6028a3b08b33",
   "outputs": [
    {
     "name": "stdout",
     "output_type": "stream",
     "text": [
      "        sensor\n",
      "0   wind speed\n",
      "1   irradiance\n",
      "2  temperature\n"
     ]
    }
   ],
   "execution_count": 11
  },
  {
   "metadata": {
    "ExecuteTime": {
     "end_time": "2024-11-07T17:19:22.868985Z",
     "start_time": "2024-11-07T17:19:22.862682Z"
    }
   },
   "cell_type": "code",
   "source": "conn.close()",
   "id": "560e7c0611725260",
   "outputs": [],
   "execution_count": 6
  }
 ],
 "metadata": {
  "kernelspec": {
   "display_name": "Python 3",
   "language": "python",
   "name": "python3"
  },
  "language_info": {
   "codemirror_mode": {
    "name": "ipython",
    "version": 2
   },
   "file_extension": ".py",
   "mimetype": "text/x-python",
   "name": "python",
   "nbconvert_exporter": "python",
   "pygments_lexer": "ipython2",
   "version": "2.7.6"
  }
 },
 "nbformat": 4,
 "nbformat_minor": 5
}
